{
 "cells": [
  {
   "cell_type": "code",
   "execution_count": 13,
   "metadata": {},
   "outputs": [],
   "source": [
    "from selenium import webdriver\n",
    "from webdriver_manager.chrome import ChromeDriverManager\n"
   ]
  },
  {
   "cell_type": "code",
   "execution_count": 529,
   "metadata": {
    "scrolled": true
   },
   "outputs": [
    {
     "name": "stdout",
     "output_type": "stream",
     "text": [
      "\n",
      "\n"
     ]
    },
    {
     "name": "stderr",
     "output_type": "stream",
     "text": [
      "[WDM] - ====== WebDriver manager ======\n",
      "[WDM] - Current google-chrome version is 89.0.4389\n",
      "[WDM] - Get LATEST driver version for 89.0.4389\n",
      "[WDM] - Driver [C:\\Users\\DELL\\.wdm\\drivers\\chromedriver\\win32\\89.0.4389.23\\chromedriver.exe] found in cache\n"
     ]
    }
   ],
   "source": [
    "driver = webdriver.Chrome(ChromeDriverManager().install())"
   ]
  },
  {
   "cell_type": "code",
   "execution_count": 308,
   "metadata": {},
   "outputs": [],
   "source": [
    "# importing important libraries\n",
    "\n",
    "import argparse\n",
    "import matplotlib.pyplot as plt\n",
    "import pandas as pd\n",
    "import numpy as np\n",
    "from selenium import webdriver\n",
    "from selenium.webdriver.common.keys import Keys\n",
    "import time\n",
    "from selenium.common.exceptions import ElementNotInteractableException\n",
    "from selenium.common.exceptions import NoSuchElementException\n",
    "from selenium.common.exceptions import StaleElementReferenceException\n",
    "from selenium.common.exceptions import TimeoutException\n",
    "from selenium.webdriver.support.ui import WebDriverWait\n",
    "from selenium.webdriver.support import expected_conditions as EC\n",
    "from selenium.webdriver.common.by import By\n",
    "from selenium.webdriver.support.select import Select"
   ]
  },
  {
   "cell_type": "code",
   "execution_count": 530,
   "metadata": {},
   "outputs": [],
   "source": [
    "# Opening the url \n",
    "driver.get('https://www.instagram.com/')\n",
    "wait = WebDriverWait(driver, 10)\n",
    "element = wait.until(EC.presence_of_element_located((By.XPATH,'//*[@id=\"loginForm\"]/div/div[1]/div/label/input')))\n",
    "\n",
    "# Defining a function to login instagram.......\n",
    "\n",
    "def login(us,ps):\n",
    "    # filling the username and password text box......\n",
    "    u = driver.find_element_by_xpath('//*[@id=\"loginForm\"]/div/div[1]/div/label/input')\n",
    "    u.send_keys(us)\n",
    "    p = driver.find_element_by_xpath('//*[@id=\"loginForm\"]/div/div[2]/div/label/input')\n",
    "    p.send_keys(ps)\n",
    "    login = driver.find_element_by_xpath('//*[@id=\"loginForm\"]/div/div[3]').click()\n",
    "    # save info box appears clicking on not now option\n",
    "    try:\n",
    "        wait = WebDriverWait(driver, 10)\n",
    "        element = wait.until(EC.presence_of_element_located((By.XPATH,'//*[@id=\"react-root\"]/section/main/div/div/div/div/button')))\n",
    "        not_now = driver.find_element_by_xpath('//*[@id=\"react-root\"]/section/main/div/div/div/div/button')\n",
    "        not_now.click()\n",
    "    except NoSuchElementException:\n",
    "        pass\n",
    "    # waiting for turn off dialog box ..sometimes appear otherwise passing the error...\n",
    "    try:\n",
    "        wait = WebDriverWait(driver, 10)\n",
    "        element = wait.until(EC.presence_of_element_located((By.XPATH, '/html/body/div[4]/div/div/div/div[3]/button[2]')))\n",
    "    except TimeoutException:\n",
    "        pass\n",
    "        # turn off dilaog box if appears clicking on turn off\n",
    "    try:\n",
    "        driver.find_element_by_xpath('/html/body/div[4]/div/div/div/div[3]/button[2]').click()\n",
    "    except NoSuchElementException:\n",
    "        pass\n",
    "login('sample username','sample password')"
   ]
  },
  {
   "cell_type": "markdown",
   "metadata": {},
   "source": [
    "# 1.1) From the list of instagram handles you obtained when you searched ‘food’ in previous project. Open the first 10 handles and find the top 5 which have the highest number of followers"
   ]
  },
  {
   "cell_type": "code",
   "execution_count": 357,
   "metadata": {},
   "outputs": [],
   "source": [
    "# defining a function for searching in search bar.......\n",
    "def search_handle(handle):\n",
    "    search_bar = driver.find_element_by_xpath('//*[@id=\"react-root\"]/section/nav/div[2]/div/div/div[2]/input').send_keys(handle)\n",
    "    wait = WebDriverWait(driver, 10)\n",
    "    element = wait.until(EC.presence_of_element_located((By.XPATH,'//*[@id=\"react-root\"]/section/nav/div[2]/div/div/div[2]/div[3]/div/div[2]/div')))\n",
    "search_handle('food')"
   ]
  },
  {
   "cell_type": "code",
   "execution_count": 358,
   "metadata": {},
   "outputs": [
    {
     "name": "stdout",
     "output_type": "stream",
     "text": [
      "yourfoodlab https://www.instagram.com/yourfoodlab/\n",
      "delhi_street_food1 https://www.instagram.com/delhi_street_food1/\n",
      "chubby_foodie06 https://www.instagram.com/chubby_foodie06/\n",
      "tale_of_yum_food https://www.instagram.com/tale_of_yum_food/\n",
      "gorakhpurfoods https://www.instagram.com/gorakhpurfoods/\n",
      "foodrush.recipe https://www.instagram.com/foodrush.recipe/\n",
      "food https://www.instagram.com/food/\n",
      "the_foodie_allahabadi https://www.instagram.com/the_foodie_allahabadi/\n",
      "foodsoflucknow https://www.instagram.com/foodsoflucknow/\n",
      "foodies_on_streets https://www.instagram.com/foodies_on_streets/\n"
     ]
    }
   ],
   "source": [
    "# after searching maintaining a dictionary key as handle name and value as insta handle link removing \"#\" of top 10\n",
    "name_link = {}\n",
    "def insta_handles(handle):\n",
    "    search_handle(handle)\n",
    "    name = driver.find_elements_by_class_name('-qQT3')\n",
    "    #name.get_attribute('innerHTML')\n",
    "    for i in range(10):\n",
    "        s = name[i].get_attribute('href').split('/')[3]\n",
    "        link = name[i].get_attribute('href')\n",
    "        if s!='explore':\n",
    "            name_link[s] = link\n",
    "insta_handles('food')\n",
    "for i in name_link:\n",
    "    print(i,name_link[i])"
   ]
  },
  {
   "cell_type": "code",
   "execution_count": 359,
   "metadata": {},
   "outputs": [],
   "source": [
    "# maintianing a dictionary of insta handles and their followers throuhg using links that we have in above dictionary.........\n",
    "name_foll_no = {}\n",
    "for i in name_link:\n",
    "    driver.get(name_link[i])\n",
    "    time.sleep(1)\n",
    "    f = driver.find_element_by_xpath('//*[@id=\"react-root\"]/section/main/div/header/section/ul/li[2]/a/span')\n",
    "    time.sleep(1)\n",
    "    name_foll_no[i] = f.get_attribute('title')\n",
    "    driver.back()\n",
    "    time.sleep(1)\n",
    "name_foll_no_sorted = {}\n",
    "name_link_sorted = {}\n"
   ]
  },
  {
   "cell_type": "code",
   "execution_count": 360,
   "metadata": {},
   "outputs": [
    {
     "data": {
      "text/plain": [
       "{'yourfoodlab': '1,592,114',\n",
       " 'delhi_street_food1': '22,149',\n",
       " 'chubby_foodie06': '6,035',\n",
       " 'tale_of_yum_food': '101',\n",
       " 'gorakhpurfoods': '12,688',\n",
       " 'foodrush.recipe': '606,125',\n",
       " 'food': '113,840',\n",
       " 'the_foodie_allahabadi': '6,998',\n",
       " 'foodsoflucknow': '162',\n",
       " 'foodies_on_streets': '792'}"
      ]
     },
     "execution_count": 360,
     "metadata": {},
     "output_type": "execute_result"
    }
   ],
   "source": [
    "# no of followers are in string form\n",
    "name_foll_no"
   ]
  },
  {
   "cell_type": "code",
   "execution_count": 361,
   "metadata": {},
   "outputs": [],
   "source": [
    "# maintaing two separate lists of followers and users........\n",
    "users = []\n",
    "followers = []\n",
    "for i in name_foll_no:\n",
    "    users.append(i)\n",
    "    followers.append(name_foll_no[i])\n",
    "    "
   ]
  },
  {
   "cell_type": "code",
   "execution_count": 362,
   "metadata": {},
   "outputs": [
    {
     "data": {
      "text/plain": [
       "['yourfoodlab',\n",
       " 'delhi_street_food1',\n",
       " 'chubby_foodie06',\n",
       " 'tale_of_yum_food',\n",
       " 'gorakhpurfoods',\n",
       " 'foodrush.recipe',\n",
       " 'food',\n",
       " 'the_foodie_allahabadi',\n",
       " 'foodsoflucknow',\n",
       " 'foodies_on_streets']"
      ]
     },
     "execution_count": 362,
     "metadata": {},
     "output_type": "execute_result"
    }
   ],
   "source": [
    "users"
   ]
  },
  {
   "cell_type": "code",
   "execution_count": 363,
   "metadata": {},
   "outputs": [
    {
     "data": {
      "text/plain": [
       "['1,592,114',\n",
       " '22,149',\n",
       " '6,035',\n",
       " '101',\n",
       " '12,688',\n",
       " '606,125',\n",
       " '113,840',\n",
       " '6,998',\n",
       " '162',\n",
       " '792']"
      ]
     },
     "execution_count": 363,
     "metadata": {},
     "output_type": "execute_result"
    }
   ],
   "source": [
    "followers"
   ]
  },
  {
   "cell_type": "code",
   "execution_count": 364,
   "metadata": {},
   "outputs": [
    {
     "name": "stdout",
     "output_type": "stream",
     "text": [
      "yourfoodlab 1592114\n",
      "foodrush.recipe 606125\n",
      "food 113840\n",
      "delhi_street_food1 22149\n",
      "gorakhpurfoods 12688\n"
     ]
    }
   ],
   "source": [
    "# now converting the string format of followers into integer value.......\n",
    "for i in range(len(followers)):\n",
    "    if not 'k' in followers[i]:\n",
    "        followers[i]=int(\"\".join(followers[i].split(',')))\n",
    "    else:\n",
    "        followers[i]=float(followers[i][:-1])*1000\n",
    "followers=np.array(followers, dtype='int')\n",
    "users=np.array(users)\n",
    "\n",
    "#sorted \n",
    "\n",
    "users=users[np.argsort(followers)][::-1]\n",
    "followers=followers[np.argsort(followers)][::-1]\n",
    "\n",
    "# now printing top 5  insta gandles with their Number of followers..\n",
    "\n",
    "top5=[] #list of top5 insta handle\n",
    "name_foll_no_sorted = {} #dictionary of top5 insta-handle as key and their no of followers as value ,sorted in desc order of values\n",
    "name_link_sorted ={} # dictionary of top5 insta-handle as key and their links as value\n",
    "for x in range(5):\n",
    "    print(users[x],followers[x])\n",
    "    key = users[x]\n",
    "    value = followers[x]\n",
    "    name_foll_no_sorted[key] = value\n",
    "    top5.append(users[x])\n"
   ]
  },
  {
   "cell_type": "code",
   "execution_count": 365,
   "metadata": {},
   "outputs": [
    {
     "name": "stdout",
     "output_type": "stream",
     "text": [
      "yourfoodlab 1592114\n",
      "foodrush.recipe 606125\n",
      "food 113840\n",
      "delhi_street_food1 22149\n",
      "gorakhpurfoods 12688\n"
     ]
    }
   ],
   "source": [
    "# Printing top5 insta handles and their number of followers on the basis of search of top 10 insta handles followers......\n",
    "\n",
    "for i in name_foll_no_sorted:\n",
    "    name_link_sorted[i] = name_link[i]\n",
    "    print(i,name_foll_no_sorted[i])"
   ]
  },
  {
   "cell_type": "code",
   "execution_count": 366,
   "metadata": {},
   "outputs": [
    {
     "name": "stdout",
     "output_type": "stream",
     "text": [
      "yourfoodlab https://www.instagram.com/yourfoodlab/\n",
      "foodrush.recipe https://www.instagram.com/foodrush.recipe/\n",
      "food https://www.instagram.com/food/\n",
      "delhi_street_food1 https://www.instagram.com/delhi_street_food1/\n",
      "gorakhpurfoods https://www.instagram.com/gorakhpurfoods/\n"
     ]
    }
   ],
   "source": [
    "# # Printing top5 insta handles and their links.........\n",
    "\n",
    "for i in name_link_sorted:\n",
    "    print(i,name_link_sorted[i])"
   ]
  },
  {
   "cell_type": "markdown",
   "metadata": {},
   "source": [
    "# 1.2) Now Find the number of posts these handles have done in the previous 3 days."
   ]
  },
  {
   "cell_type": "code",
   "execution_count": 553,
   "metadata": {},
   "outputs": [
    {
     "name": "stdout",
     "output_type": "stream",
     "text": [
      "\n"
     ]
    }
   ],
   "source": [
    "# maintaing a dictionary of top5 handles and their post time..............\n",
    "\n",
    "time_post = {}\n",
    "import time\n",
    "for i in name_link_sorted:\n",
    "    key = i\n",
    "    value = []\n",
    "    driver.get(name_link_sorted[i])\n",
    "    posts_list = driver.find_elements_by_xpath('//div[@class=\"v1Nh3 kIKUG  _bz0w\"]/a')\n",
    "    for i in range(10):\n",
    "        posts_list[i].click()\n",
    "        time.sleep(2)\n",
    "        try:\n",
    "            time1 = driver.find_element_by_xpath('/html/body/div[5]/div[2]/div/article/div[3]/div[2]/a/time')\n",
    "            t = time1.get_attribute('innerHTML')\n",
    "            #print(t)\n",
    "            value.append(t)     \n",
    "        except (NoSuchElementException, ElementNotInteractableException):\n",
    "            pass \n",
    "        close_button = driver.find_element_by_xpath('/html/body/div[5]/div[3]/button')\n",
    "        close_button.click()\n",
    "    time_post[key] = value\n",
    "    time.sleep(2)\n",
    "    driver.back()"
   ]
  },
  {
   "cell_type": "code",
   "execution_count": 577,
   "metadata": {},
   "outputs": [
    {
     "data": {
      "text/plain": [
       "{'yourfoodlab': 10,\n",
       " 'foodrush.recipe': 0,\n",
       " 'food': 7,\n",
       " 'delhi_street_food1': 14,\n",
       " 'gorakhpurfoods': 5}"
      ]
     },
     "execution_count": 577,
     "metadata": {},
     "output_type": "execute_result"
    }
   ],
   "source": [
    "# here maintaing a dictionary of insta handles and their no of post in last 3 days.........\n",
    "\n",
    "tp ={}\n",
    "no_of_posts = []\n",
    "for i in time_post:\n",
    "    c = 0\n",
    "    for j in time_post[i]:\n",
    "        if 'h' in j:\n",
    "            c = c+1\n",
    "        elif '1 day' in j:\n",
    "            c = c+1\n",
    "        elif '2 days' in  j:\n",
    "            c = c+1\n",
    "        elif '3 days' in  j:\n",
    "            c = c+1\n",
    "    no_of_posts.append(c)\n",
    "    tp[i] = c\n",
    "tp"
   ]
  },
  {
   "cell_type": "markdown",
   "metadata": {},
   "source": [
    "# 1.3) Depict this information using a suitable graph."
   ]
  },
  {
   "cell_type": "code",
   "execution_count": 574,
   "metadata": {},
   "outputs": [
    {
     "data": {
      "image/png": "[encoded data removed]",
      "text/plain": [
       "<Figure size 720x504 with 1 Axes>"
      ]
     },
     "metadata": {
      "needs_background": "light"
     },
     "output_type": "display_data"
    },
    {
     "data": {
      "image/png": "[encoded data removed]",
      "text/plain": [
       "<Figure size 720x504 with 1 Axes>"
      ]
     },
     "metadata": {
      "needs_background": "light"
     },
     "output_type": "display_data"
    }
   ],
   "source": [
    "# Plottint the bar graphs Users versus number of followers.....\n",
    "\n",
    "colors = ['red','blue','yellow','c','green']\n",
    "plt.figure(figsize=(10, 7))\n",
    "plt.bar(users[:5], followers[:5], color=colors)\n",
    "plt.xticks(rotation=45, size=12)\n",
    "plt.yticks(size=12)\n",
    "plt.title('Users versus numberof followers', size=12)\n",
    "plt.xlabel('users--->', size=12)\n",
    "plt.ylabel('followers--->', size=12)\n",
    "plt.grid()\n",
    "plt.show()\n",
    "\n",
    "# Plottint the bar graphs Users versus number of posts.........\n",
    "\n",
    "plt.figure(figsize=(10, 7))\n",
    "plt.bar(top5, no_of_posts, color=colors)\n",
    "plt.xticks(rotation=45, size=12)\n",
    "plt.yticks(size=12)\n",
    "plt.title('Users versus number of posts', size=12)\n",
    "plt.xlabel('users--->', size=12)\n",
    "plt.ylabel('number of posts--->', size=12)\n",
    "plt.grid()\n",
    "plt.show()"
   ]
  },
  {
   "cell_type": "markdown",
   "metadata": {},
   "source": [
    "# 2.1) Open the 5 handles you obtained in the last question, and scrape the content of the first 10 posts of each handle."
   ]
  },
  {
   "cell_type": "code",
   "execution_count": 410,
   "metadata": {},
   "outputs": [],
   "source": [
    "contents = []\n",
    "for i in name_link_sorted:\n",
    "    driver.get(name_link_sorted[i])\n",
    "    posts_list = driver.find_elements_by_xpath('//div[@class=\"v1Nh3 kIKUG  _bz0w\"]/a')\n",
    "    for i in range(10):\n",
    "        posts_list[i].click()\n",
    "        time.sleep(2)\n",
    "        try:\n",
    "            con = driver.find_element_by_xpath('/html/body/div[5]/div[2]/div/article/div[3]/div[1]/ul/div/li/div/div/div[2]/span')\n",
    "            contents.append(con.get_attribute('textContent'))\n",
    "        except (NoSuchElementException, ElementNotInteractableException):\n",
    "            pass \n",
    "        close_button = driver.find_element_by_xpath('/html/body/div[5]/div[3]/button')\n",
    "        close_button.click()\n",
    "    time.sleep(2)\n",
    "    driver.back()\n",
    "#posts_list[0].get_attribute('outerHTML')"
   ]
  },
  {
   "cell_type": "code",
   "execution_count": 448,
   "metadata": {},
   "outputs": [
    {
     "data": {
      "text/plain": [
       "['yourfoodlab',\n",
       " 'foodrush.recipe',\n",
       " 'food',\n",
       " 'delhi_street_food1',\n",
       " 'gorakhpurfoods']"
      ]
     },
     "execution_count": 448,
     "metadata": {},
     "output_type": "execute_result"
    }
   ],
   "source": [
    "top5"
   ]
  },
  {
   "cell_type": "code",
   "execution_count": 524,
   "metadata": {},
   "outputs": [
    {
     "name": "stdout",
     "output_type": "stream",
     "text": [
      "Contents of first 10 posts of isnta-handle-- yourfoodlab\n",
      "****************************************************************\n",
      "Nagpur special Tari Poha Recipe by Chef @sanjyotkeerSo a few days back I was in Nagpur and I was waiting to try this from a long time and I finally did. I had received a lot of requests to make a recipe video for the Tari poha and here it is. I have tried to prep it as close as possible to the one I had in Nagpur and the results were amazing. Do try the recipe and let me know! Cheers! ❤️....#recipes #recipeoftheday #foodporn #foodphotography #sanjyotkeer #YourFoodLab #StreetFood\n",
      "---------------------------------------------------\n",
      "New video is up on the YouTube & Facebook channel! NYC cart style chicken & rice! For the ones who haven’t tried it and don’t know about it, it practically is a chicken shawarma rice which tastes mind blowing. Shawarma style chicken is loaded over saffron flavored rice and is served with a delicious garlic white sauce and a hot sauce for which the recipes are included in the video. Served along with pita and some salad veggies. I had this when I was in New York in 2019 and I absolutely loved it! Do try the recipe and I am sure you will love it! For vegetarians, I have uploaded a paneer versions before, you can’t check that out on the channel! Cheers!...#recipe #food #foodporn #nyc #newyork #shawarma #pitabread #foodie #chicken #rice #nonveg #garlicsauce #sanjyotkeer #cartstylechickenandrice #streetfood #mumbaifoodie\n",
      "---------------------------------------------------\n",
      "Thank you for 5 million Facebook followers! Which recipe one of these is your favourite YFL recipe?#reels #eyeofshe #featuredreel #reelsinstagram #reelitfeelit #foodreels #reelkarofeelkaro #foodporn #pastalover #pizzatime #indianfood\n",
      "---------------------------------------------------\n",
      "Falafel Recipe by Chef @sanjyotkeerWhat’s up guys! Finally!! Falafel recipe for you guys, I have included hummus & home made tahini recipes as well in this video. Pita bread, garlic sauce and hot sauce recipe is already up on the channel. So as promised in the chicken shawarma video, here is the awesome recipe of falafel wrap as well as a falafel hummus bowl. Do try the recipe and let me know! Also we are very close to the 2 million family mark on Youtube! Let’s do it quickly! We are also hitting 5 million on FB soon! Woohooo! Thank you for your love and support ❤️Cheers!...#recipes #recipeoftheday #falafel #falafelrecipe #falafelwrap #falafelbowl #falafels #hummus #hummusrecipe #hummuslover #foodporn #foodphotography #sanjyotkeer #mumbaiblogger\n",
      "---------------------------------------------------\n",
      "Guys!!!!! We hit 5 Million on Facebook! This is huge & I can’t thank you enough for the love and support you have always bestowed on YFL! The journey which started with just following my passion & creating quick recipe videos on the internet has turned into something which is such a huge community globally. It’s going to be 5 years to YFL soon and this journey has been an incredible one. Thank you @a_kshaypatil @manastakle @shaaaan_11 @mrgupta_769 for believing in me. I have got the best team by my side who create the best food videos out there! I am sure we are going to kill it further. Thank you to the amazing people from my family and friends who always support me, thank you for your blessings. A big thank you to the @facebookapp india team for always being there. Thank you @vishuray & @ladyroxpop Like I always say, nothing is impossible, believe in your self and do what ever it takes to make it big. Never kill your stupid ideas! Thank you YFL COMMUNITY from the bottom of our hearts. Lots of love! Chef @sanjyotkeer & Team YFL\n",
      "---------------------------------------------------\n",
      "Nagpur special Tari Poha Recipe is out now! Finallyyyy!!! Watch it now, link in the bio. So a few days back I was in Nagpur and I was waiting to try this from a long time and I finally did. I had received a lot of requests to make a recipe video for the Tari poha and here it is. I have tried to prep it as close as possible to the one I had in Nagpur and the results were amazing. Do try the recipe and let me know! Cheers! ❤️....#recipes #recipeoftheday #foodporn #foodphotography #sanjyotkeer #YourFoodLab #StreetFood\n",
      "---------------------------------------------------\n",
      "Maggi Chowmein by Chef @sanjyotkeer ...#recipeoftheday #maggi #maggilover #indiancuisine #streetfood #yummyfood #foodporn #foodstagram #streetfoodindia #sanjyotkeer\n",
      "---------------------------------------------------\n",
      "Falafel Recipe is out now on Youtube & Facebook! Check it out now!What’s up guys! Finally!! Falafel recipe for you guys, I have included hummus & home made tahini recipes as well in this video. Pita bread, garlic sauce and hot sauce recipe is already up on the channel. So as promised in the chicken shawarma video, here is the awesome recipe of falafel wrap as well as a falafel hummus bowl. Do try the recipe and let me know! Also we are very close to the 2 million family mark on Youtube! Let’s do it quickly! We are also hitting 5 million on FB soon! Woohooo! Thank you for your love and support ❤️Cheers!...#recipes #recipeoftheday #falafel #falafelrecipe #falafelwrap #falafelbowl #falafels #hummus #hummusrecipe #hummuslover #foodporn #foodphotography #sanjyotkeer #mumbaiblogger\n",
      "---------------------------------------------------\n",
      "Quick Left-Over Rice Recipe - 3 ways by Chef @sanjyotkeer...What’s up guys! Got some left over rice? Here’s some delicious ideas for you! I get this request a lot for simple and quick recipes which everybody can follow. Here’s a quick idea, in fact 3 quick ideas to prep up some delicious rice for left over rice at home quickly. I have prepped up some basic veg fried rice, some tadke waale lemon rice and some peri peri fried rice. All three recipes are very easy to follow and I am sure you would love them all! Cheers!...#recipeoftheday #rice #ricebowl #ricelover #foodphotography #periperi #foodporn #streetfoodindia #streetfoodlover #indiancuisine #sanjyotkeer\n",
      "---------------------------------------------------\n",
      "Quick Left-Over Rice Recipe - 3 ways is out now on Youtube & Facebook! Check it out now!What’s up guys! Got some left over rice? Here’s some delicious ideas for you! I get this request a lot for simple and quick recipes which everybody can follow. Here’s a quick idea, in fact 3 quick ideas to prep up some delicious rice for left over rice at home quickly. I have prepped up some basic veg fried rice, some tadke waale lemon rice and some peri peri fried rice. All three recipes are very easy to follow and I am sure you would love them all! Cheers!...#recipeoftheday #rice #ricebowl #ricelover #foodphotography #periperi #foodporn #streetfoodindia #streetfoodlover #indiancuisine #sanjyotkeer\n",
      "---------------------------------------------------\n",
      "Contents of first 10 posts of isnta-handle-- foodrush.recipe\n",
      "****************************************************************\n",
      "Tomato Bonda is an amazing twist to regular bonda!!! Try this easy yet tasty recipe and enjoy your weekend 😀\n",
      "---------------------------------------------------\n",
      "Cheese Pav bhaji is one of the best version of street food we all have ever tasted. We have just tried to serve it in a most convenient yet cheesy way with @gocheesein 😋This recipe is specially for all cheese lovers out there cause #HarTastyCheezMeinGoCheese !!! Ingredients:2 cup Refined Flour1/2 cup Water1/2 cup Warm Milk1 tsp Salt1 tsp Yeast1/2 tsp Sugar1 tsp Oil1 cup Pav BhajiGo Pizza CheeseButterMethod:In a warm milk add sugar and yeast and rest it for 10 minutes. Once the mixture become bubbly add it to refined flour. Add salt and water to the flour and combine to make a soft dough. Rest it for 30 minutes or till it doubles in size.—In a cup of pav bhaji add grated Go Pizza Cheese. Mix it well.—Puncture the dough and roll it. Cut the circles from this sheet with the help of cookie cutter.—Spread Pav bhaji on this and shape it as shown in video.— Arrange these shapes to form flower out of it. Add Go Pizza Cheese between two petals.—Bake it @200 degree for 15-20 minutes.—Serve hot with cheesy dip or ketchup!!! #cheese #pavbhaji #cheesy #gocheese #foodie #foodrushrecipe #food #recipe #bakery #bread #streetfood #twist #party #foodphotography\n",
      "---------------------------------------------------\n",
      "Cheese Pav bhaji is one of the best version of street food we all have ever tasted. We have just tried to serve it in a most convenient yet cheesy way with @gocheesein 😋This recipe is specially for all cheese lovers out there cause #HarTastyCheezMeinGoCheese !!! Ingredients:2 cup Refined Flour1/2 cup Water1/2 cup Warm Milk1 tsp Salt1 tsp Yeast1/2 tsp Sugar1 tsp Oil1 cup Pav BhajiGo Pizza CheeseButterMethod:In a warm milk add sugar and yeast and rest it for 10 minutes. Once the mixture become bubbly add it to refined flour. Add salt and water to the flour and combine to make a soft dough. Rest it for 30 minutes or till it doubles in size.—In a cup of pav bhaji add grated Go Pizza Cheese. Mix it well.—Puncture the dough and roll it. Cut the circles from this sheet with the help of cookie cutter.—Spread Pav bhaji on this and shape it as shown in video.— Arrange these shapes to form flower out of it. Add Go Pizza Cheese between two petals.—Bake it @200 degree for 15-20 minutes.—Serve hot with cheesy dip or ketchup!!! #cheese #pavbhaji #cheesy #gocheese #foodie #foodrushrecipe #food #recipe #bakery #bread #streetfood #twist #party #foodphotography\n",
      "---------------------------------------------------\n",
      "Stuffed Paneer Bread Pakora !!! Sound exciting right, its just so tasty that you will love it at its first bite 😋 #paneer #bread #pakora #fried #breadpakoda #masala #recipe #streetfood #streetstyle #india #indian #indianfood #food #foodie #homemade\n",
      "---------------------------------------------------\n",
      "Happy new year to all foodies!! 🥳🥳🥳Try this super amazing Hot Chocolate Bombs to make your winter warm and comfortable 😉 These magical chocolate bombs will melt in hot milk just like this 😋#newyear #chocolate #coco #cocoa #bombs #chocolatebomb #hotchocolate #winter #winterseason #recipe #magic #food #foodie\n",
      "---------------------------------------------------\n",
      "Egg chilli !!! Want to plan some easier and fastest recipe on this New Year eve try this simplest yet tastier indo Chinese recipe 😋 #egg #indochinese #chinese #chinesefood #recipes #food #foodie #foodporn #foodstagram #fusion #chilli #fried #newyear #newyear2021 #newyeareve\n",
      "---------------------------------------------------\n",
      "Malai Chicken tikka is mouthwatering juicy grilled chicken !!! Its made using green chilli, garlic, lemon, malai and one special ingredient thats @californiawalnutsindia Walnuts not just makes it taste better but also makes it healthier 😀 try this juicy soft kebab on skewers that will melt in your mouth 😋Ingredients :500 gm Chicken ",
      "Salt to taste1/4 tsp Black Pepper1.5 tbsp Ginger Garlic Paste ",
      "2 tbsp California Walnuts3/4 cup Hung Curd 1/2 cup Fresh Cream1 tsp Green Chillies1 tsp Garam Masala1 tsp Kasuri Methi1 tbsp Fresh Coriander1 tbsp Corn Starch Finely Chopped California WalnutsButterMethod:Marinate chicken using salt, black pepper and ginger garlic paste. Rest it for 15 minutes.—Make fine paste of California walnuts.—In a bowl take hung curd, fresh cream, green chillies, salt, kauri methi, walnuts paste, fresh coriander and cornstarch. Mix it well. —Add marinated chicken to this mixture and coat all chicken pieces with it.—Place small bowl over this mixture. In a small bowl take heated coal add ghee to it and cover it immediately. Let it covered for 2-3 minutes.—Remove coal bowl from this and add some chopped walnuts mixture and mix it again.—Thread this chicken into skewer. Grill it on medium low flame for around 5-10 minutes.—Squeeze some lemon juice over this grilled chicken and garnish with fresh cream and coriander.—Serve hot with green chutney !!!#MakingEverydayHealthy #californiawalnuts #chicken #grill #malaichicken #food #recipe #foodie #homemade\n",
      "---------------------------------------------------\n",
      "Whip-up this delectable Open Cheese Toast sandwich recipe loaded with the goodness of Austrian cheese triangles whenever hunger strikes. Austrian cheese triangles are especially soft and creamy and produced from the finest ingredients. You can also use Blue cheese from France for this recipe 😉This post is funded with aid from European Union.Ingredients : Baguette SliceMelted butteAustrian Cheese Triangles1 tbsp Oregano mix herbs1 tbsp Garlic1 tsp Butter1 tbsp Balsamic Vinegar1/2 cup Cherry TomatoSalt to taste Pepper to tastePesto SauceBasil LeavesMethod:Spread some melted butter on a baguette slice. Bake it at 200 degree celcius for 10 minutes.--In a bowl take Austrian cheese triangle add Oregano mix herbs and finely chopped garlic to it. mIx it well.--In a flat pan take some butter. Add Balsamic vinegar to it. Toast cherry tomatoes in it. Add salt and pepper to taste.--Take baked baguette slice. Spread Seasoned cheese over it. Add some roasted tomatoes. spread some pesto sauce over it and garnish with fresh basil leaves.--Serve with your favorite condiments !!#EnjoyitsFromEurope #EuropeHomeOfCheese #AustrianCheese #cheese #recipe #food #foodie #foodofinstagram #bread #opentoast #sandwich\n",
      "---------------------------------------------------\n",
      "This Christmas try these yummy melt in mouth chocolate fudge!!! Make it with just 3 ingredients 😉 #christmas #chocolate #fudge #meltinmouth #festive #foodporn #food #merrychristmas #cocoa #choco #foodie #recipe\n",
      "---------------------------------------------------\n",
      "Lucky charms cookie from @chipnewyorkcity 🍀 Happy St Patrick’s Day!! 📸: @sofiaeatsnyc #newforkcity #chipcity #chip #cookies #luckycharms #yummy #stpatricksday #stpattysday #foood\n",
      "---------------------------------------------------\n",
      "Contents of first 10 posts of isnta-handle-- food\n",
      "****************************************************************\n",
      "Pulled Pork Benedict, Hole in the Waffles and a Golden Turmeric Latte from @holeinthewall 🤤📸: @sitdown.behungry #brunch #nycbrunch #pulledpork #eggsbenedict #waffles #food #yummy #holeinthewall\n",
      "---------------------------------------------------\n",
      "Sound ON for the beautiful sound this bread from @milanomarketwestside makes 🥺@pigout_nyc got their special Triple S Chicken Parm sandwich which is a Pesto, Vodka, Marinara combo 🔥#pigoutnyc #nyc #nycfood #nycfoodie #milanomarket #chickenparm #vodkasauce #pesto #marinara\n",
      "---------------------------------------------------\n",
      "Happy Pi Day! How are you celebrating? 📸: @rubirosa_nyc #piday #pie #pizzapie #pizza #rubirosa #nyc #nycfood #nycfoodie #yum #food\n",
      "---------------------------------------------------\n"
     ]
    },
    {
     "name": "stdout",
     "output_type": "stream",
     "text": [
      "@cy_eats is keeping warm with this Steamy Seafood Lovers Bucatini 💕 From the well-heated outdoor veranda at @jamesctracey’s @isabellesnyc! #nyc #nycfood #nycfoodie #seafood #bucatini #pasta #yum #food #eat\n",
      "---------------------------------------------------\n",
      "Tag your squad you’d like to take on this @lartusi feast with 🤤#nyc #nycfood #nycfoodie #lartusi #food #yum #feast #dinner #eat\n",
      "---------------------------------------------------\n",
      "@lilianewyork Mafaldini prep #ChoosePasta #pasta #lilia #mafaldini #freshpasta #nyc #nycfood #nycfoodie #food\n",
      "---------------------------------------------------\n",
      "Incredible wagyu and more from @gan_hoo_bbq⁠⁠⁠⁠⁠⁠📸: @fionaeats365⁠⁠⁠⁠#wagyu #wagyubeef #tofu #ganhoobbq #nyc #nycfood #nycfoodie #yum #food\n",
      "---------------------------------------------------\n",
      "Wise 🥟 words from @nycfoodblog below 👇🏽⁠⁠“Last year I posted my top 3 dumpling spots in NYC, this is the only one left that’s still open (Kai Feng Fu Dumpling House located in Sunset Park, Brooklyn). The other two have closed. They’re $1.50 for 5 pieces (prices may have gone up slightly since then which is totally fine), you will not find any place thats more affordable anywhere. I love that it has a softer texture on top and the crispy layer on the bottom. The sauce really makes this also, you kind of have to make your own from the condiments. Make sure you mix equal parts chili oil (from the table), soy sauce and vinegar (sriracha optional). ⁠⁠You gotta understand that these places don’t make very much selling food at these prices, they have to be able to sell in mass bulk in order to make a profit which is part of why so many have been closing. I always try to buy quite a bit when I stop by these affordable places (like a few batches of frozen dumplings), I encourage you to do the same for your favorite local restaurant (not just the Asian ones)”⁠⁠#savechinatown #nyc #newyorkcity #chinatown #dumplings #food #nycfoodblog #nycfoodie #yum\n",
      "---------------------------------------------------\n",
      "Watermelon mojito 🤤❤️Location: Rooh burger...Follow: @delhi_street_food1 Use: #delhistreetfood1 ....#mojito #cocktails #watermelonmojito #cocktail\n",
      "---------------------------------------------------\n",
      "Gol gappa ya pani puri❤️🤤Which pani is your favourite Meetha pani ya tikha pani comment mein btao. ...Follow: @delhi_street_food1 Use: #delhistreetfood1 ..#panipuri #golgappa #chaat #streetfood #panipurilovers\n",
      "---------------------------------------------------\n",
      "Contents of first 10 posts of isnta-handle-- delhi_street_food1\n",
      "****************************************************************\n",
      "Light breakfast 😂🤤❤️Tag your that friend jiski morning evening mein hoti hai😂Location: khawesome cafe janakpuri...Follow: @delhi_street_food1 Use: #delhistreetfood1 ...#sandwichporn #tikki #cheesesandwich #alootikki\n",
      "---------------------------------------------------\n",
      "Thanks for @low.cal.taste.buds sending this delicious low calories full day meal❤️.1.Lunch2.Evening snacks 3.Dinner.@low.cal.taste.buds 3 meals a dayLunch  Evening snack  DinnerRs. 21,999 for 1 month (6 days a week, Mon - Sat)Rs. 2,499 for 3 day trialDelivery available in Delhi NCRPlace order on Whatsapp +91 9350212461....#delhistreetfood1 #delhifoodie #fooddelivery #fooddeliveryservice #delhifooddelivery #delhincrdelivery\n",
      "---------------------------------------------------\n",
      "momos he momos❤️🤤Comment your fav below😍Location: hippie bus....Follow: @delhi_street_food1 Use: #delhistreetfood1 ....#momoslover #tacos #honeychillipotato #tandoorimomos\n",
      "---------------------------------------------------\n",
      "Pizza style pasta❤️🤤Location: The boss cafe rohini....Follow: @delhi_street_food1 Use: #delhistreetfood1 Snapchat: Ujjwalverma1126....#pastarecipes #pastamaking #pastalover #pastalovers #reels\n",
      "---------------------------------------------------\n",
      "Fried veg momos😋😋Location: Adda 126 ••Follow: @delhi_street_food1Use: #delhistreetfood1 ...#momoslover #momossad #vegmomos #streetfoodindia\n",
      "---------------------------------------------------\n",
      "Gravy momos🤤❤️Tag your momos lover friends❤️Location: Girimomos centre...Follow: @delhi_street_food1 Use: #delhistreetfood1 ....#momoslover #vegmomos #chickenmomos #streetsofindia #streetfoodlover\n",
      "---------------------------------------------------\n",
      "Spiral potato ❤️😍Tag your friends Location : shake square...Follow: @delhi_street_food1 Use: #delhistreetfood1 ....#spiralpotato #potato #streetfoodindia #streetfoodies #streetfoodie #delhistreets #streetfoodlover\n",
      "---------------------------------------------------\n",
      "So recently I have visited Delhi for one day...There I had tried Fried chicken at Jama MasjidPrice 👇Rs 100If Ever you get a chance to go Delhi so for food go at the streets of Delhi.#foodie #foodblogger #gorakhpuriya #gorakhpurbloggers #up53 #delhi #StreetofDelhi #jamamasjid #chicken #chickenlover #delhifood #gorakhpur #lucknow #friedchicken #instagram #instamood #foodphotography #explorer #explorepage #foodhunter #foodhunting #indianexplorer #bloggerslife #photography #indiancusine #indianfoodie #indianblogger #nonveg #streetfood #streetfoodindia\n",
      "---------------------------------------------------\n",
      "Homemade Custard😋🤤..#custard #food #foodporn #foodie #india #indian #memes #gorakhpur #gorakhpurfoods #up #photography #foodblogger #foodie #dessert #sweet  #fruits #kiwi #grapes #love #yummy #homemadefood #home #lockdown #corona #myanmar #picoftheday #explorer #explorepage #explore #uttarpradesh #lucknow\n",
      "---------------------------------------------------\n",
      "➖➖➖➖➖➖➖➖➖➖➖➖➖➖🍱 𝑫𝒊𝒔𝒉- Oreo falooda♨ 𝑷𝒍𝒂𝒄𝒆 - Student lassi 🐼 𝑻𝒚𝒑𝒆- veg💱 𝑷𝒓𝒊𝒄𝒆 -Rs. 55/🌟 𝑹𝒂𝒕𝒊𝒏𝒈 - 7/10⭐ 💡 𝑶𝒑𝒊𝒏𝒊𝒐𝒏-  Avg taste, I will recommend you to try their other regular Lassi, they are better than this one. ➖➖➖➖➖➖➖➖➖➖➖➖➖➖➖➖➖➖➖🏫 𝑨𝒅𝒅𝒓𝒆𝒔𝒔- student lassi near DDU, Gorakhpur Uttar Pradesh ➖➖➖➖➖➖➖➖➖➖➖➖➖➖➖➖➖➖➖😊𝑭𝒐𝒍𝒍𝒐𝒘 𝒖𝒔 𝒇𝒐𝒓 𝒎𝒐𝒓𝒆 𝑫𝒂𝒊𝒍𝒚 𝒖𝒑𝒅𝒂𝒕𝒆𝒔@gorakhpurfoods 🤘@gorakhpurfoods ✌(-‿-)✌@gorakhpurfoods 😍➖➖➖➖➖➖➖➖➖➖➖➖➖➖➖➖➖➖➖#foodie #foodblogger #gorakhpuriya #gorakhpurbloggers #up53 #cmcity #gorakhpurdiaries #gorakhpurhub #gorakhpurfoods #gorakhpurcity #lassi #oreo #gorakhpursmartcity #gorakhpurStreet #explorer #foodexplorer #foodhunting #indianexplorer #blogger #bloggerslife #indian #lucknow #uttarpradesh #foodphotograph #instadaily #instagood #foodphotography #instagram #onfoodhunt #streetfood\n",
      "---------------------------------------------------\n",
      "Contents of first 10 posts of isnta-handle-- gorakhpurfoods\n",
      "****************************************************************\n",
      "Cheesy momos from @momomagiccafegkpA new place in town, here you'll get variety of momos.Keep showing love guys ❤️#foodie #foodblogger #gorakhpuriya #gorakhpurbloggers #up53 #cmcity #gorakhpurdiaries #gorakhpurhub #gorakhpurfoods #gorakhpurcity #explorer #foodexplorer #foodhunting #indianexplorer #blogger #bloggerslife #momo #momolover #vegmomo #momotime #gorakhpursmartcity #instamood #reels #foodreels\n",
      "---------------------------------------------------\n",
      "Brownie SizzlerFrom @coldnationgkpKeep showing love guys ❤️#foodie #foodblogger #gorakhpuriya #gorakhpurbloggers #up53 #cmcity #gorakhpurdiaries #gorakhpurhub #gorakhpurfoods #gorakhpurcity #Brownie #Browniesizzling #Browniesizzler #dessert #icecream #sweet #sweetlovers #sweetaddict #explorer #foodexplorer #foodhunting #indianexplorer #blogger #bloggerslife\n",
      "---------------------------------------------------\n",
      "➖➖➖➖➖➖➖➖➖➖➖➖➖➖🍱 𝑫𝒊𝒔𝒉- Chicken Briyani ♨ 𝑷𝒍𝒂𝒄𝒆 - Panjabi Dhaba 🐼 𝑻𝒚𝒑𝒆- Non - Veg💱 𝑷𝒓𝒊𝒄𝒆 -Rs. 250🌟 𝑹𝒂𝒕𝒊𝒏𝒈 - 7/10⭐ 💡 𝑶𝒑𝒊𝒏𝒊𝒐𝒏- here basically you will  get fried chicken briyani. Or I can say Chinese fried chicken briyani, little bit of tandoori taste. Once you can get a try to it. ➖➖➖➖➖➖➖➖➖➖➖➖➖➖➖➖➖➖➖🏫 𝑨𝒅𝒅𝒓𝒆𝒔𝒔- Panjabi dhaba near Railway station, Gorakhpur Uttar Pradesh ➖➖➖➖➖➖➖➖➖➖➖➖➖➖➖➖➖➖➖😊𝑭𝒐𝒍𝒍𝒐𝒘 𝒖𝒔 𝒇𝒐𝒓 𝒎𝒐𝒓𝒆 𝑫𝒂𝒊𝒍𝒚 𝒖𝒑𝒅𝒂𝒕𝒆𝒔@gorakhpurfoods 🤘@gorakhpurfoods ✌(-‿-)✌@gorakhpurfoods 😍➖➖➖➖➖➖➖➖➖➖➖➖➖➖➖➖➖➖➖#foodie #foodblogger #gorakhpuriya #gorakhpurbloggers #bloggerslife #indianblogger #chicken #chickenlover #chickenbiryani #lovebiryani #gorakhpur #gorakhpurdiaries #gorakhpurhub #gorakhpurfoods #gorakhpurcity #cmcity #up53 #streetfood #streetfoodindia #streetfoodlover #indianStreet #Street #instamood #instapic #foodphotography #photography #photooftheday #instagram #gorakhpursmartcity #gorakhpurrailwaystation\n",
      "---------------------------------------------------\n",
      "Chilli garlic noodlesFrom 👉 @cage_foodKeep showing love guys ❤️#foodie #foodblogger #gorakhpuriya #gorakhpurbloggers #up53 #cmcity #gorakhpurdiaries #gorakhpurhub #gorakhpurfoods #gorakhpurcity #reels #foodreels #explorer #foodexplorer #foodhunting #indianexplorer #blogger #bloggerslife #indian #lucknow #uttarpradesh #noodles #chili #streetfood #gorakhpursmartcity\n",
      "---------------------------------------------------\n",
      "➖➖➖➖➖➖➖➖➖➖➖➖➖➖🍱 𝑫𝒊𝒔𝒉- fresh Chana ♨𝑷𝒍𝒂𝒄𝒆 - bank road 🐼 𝑻𝒚𝒑𝒆- Veg 💱 𝑷𝒓𝒊𝒄𝒆 -Rs. 20🌟 𝑹𝒂𝒕𝒊𝒏𝒈 - ⭐ 💡 𝑶𝒑𝒊𝒏𝒊𝒐𝒏-  you always get the best taste of every food on the street. Must try if you see the. ➖➖➖➖➖➖➖➖➖➖➖➖➖➖➖➖➖➖➖🏫 𝑨𝒅𝒅𝒓𝒆𝒔𝒔-bank road near Saif plywood ➖➖➖➖➖➖➖➖➖➖➖➖➖➖➖➖➖😊𝑭𝒐𝒍𝒍𝒐𝒘 𝒖𝒔 𝒇𝒐𝒓 𝒎𝒐𝒓𝒆 𝑫𝒂𝒊𝒍𝒚 𝒖𝒑𝒅𝒂𝒕𝒆𝒔@gorakhpurfoods 🤘@gorakhpurfoods ✌(-‿-)✌@gorakhpurfoods 😍➖➖➖➖➖➖➖➖➖➖➖➖➖➖➖➖➖➖➖#street #foods #gorakhpuriya #gorakhpurblogger #Street2 #indianStreets #gorakhpursmartcity #gorakhpurdiarie #gorakhpurhub #gorakhpurfoods #gorakhpurcity #cmcity #up53 #streetfood #streetfoodindia #streetfoodlover #indianblogger #foodmania #explorer #foodexplorer #foodhunting #indianexplorer #blogger #bloggerslife #indian #lucknow #uttarpradesh #foodphotograph #instadaily #instagood\n",
      "---------------------------------------------------\n",
      "Momos🥟From the streets of nuka Vihar Gorakhpur.📍Keep showing love guys ❤️#foodie #foodblogger #gorakhpuriya #gorakhpurbloggers #up53 #cmcity #gorakhpurdiaries #gorakhpurhub #gorakhpurfoods #gorakhpurcity #naukavihargkp #momo #momolover #vegmomo #steammomos #streetfood #streetfoodindia #instagram#foodphotography #explorer #foodexplorer #foodhunting #indianexplorer #blogger #bloggerslife #indian#lucknow #momotime #gorakhpursmartcity #gorakhpurStreet\n",
      "---------------------------------------------------\n",
      "➖➖➖➖➖➖➖➖➖➖➖➖➖➖🍱 𝑫𝒊𝒔𝒉- chilly Potato 🥔 🌶️♨𝑷𝒍𝒂𝒄𝒆 - China Town wala thela🐼 𝑻𝒚𝒑𝒆- Veg 💱 𝑷𝒓𝒊𝒄𝒆 -Rs. 35 (half) 🌟 𝑹𝒂𝒕𝒊𝒏𝒈 - 6/10⭐ 💡 𝑶𝒑𝒊𝒏𝒊𝒐𝒏-  you always get the best taste of every food on the street. Must try if you see the. ➖➖➖➖➖➖➖➖➖➖➖➖➖➖➖➖➖➖➖🏫 𝑨𝒅𝒅𝒓𝒆𝒔𝒔-New reliance tends k same medical college road➖➖➖➖➖➖➖➖➖➖➖➖➖➖➖➖➖😊𝑭𝒐𝒍𝒍𝒐𝒘 𝒖𝒔 𝒇𝒐𝒓 𝒎𝒐𝒓𝒆 𝑫𝒂𝒊𝒍𝒚 𝒖𝒑𝒅𝒂𝒕𝒆𝒔@gorakhpurfoods 🤘@gorakhpurfoods ✌(-‿-)✌@gorakhpurfoods 😍➖➖➖➖➖➖➖➖➖➖➖➖➖➖➖➖➖➖➖#foodie #foodblogger #gorakhpuriya #gorakhpurbloggers #Street #indianStreet #gorakhpur #gorakhpurdiaries #gorakhpurhub #gorakhpurfoods #gorakhpurcity #cmcity #up53 #streetfood #streetfoodindia #streetfoodlover #indianblogger #foodmania #explorer #foodexplorer #foodhunting #indianexplorer #blogger #bloggerslife #indian #lucknow #uttarpradesh #foodphotograph #instadaily #instagood\n",
      "---------------------------------------------------\n",
      "---------------------------------------------------\n",
      "---------------------------------------------------\n",
      "---------------------------------------------------\n"
     ]
    }
   ],
   "source": [
    "c = 0\n",
    "for i in name_link_sorted:\n",
    "    print('Contents of first 10 posts of isnta-handle--',i)\n",
    "    print('****************************************************************')\n",
    "    for i in range(10):\n",
    "        try:\n",
    "            print(contents[c])\n",
    "            c=c+1\n",
    "        except IndexError:\n",
    "            pass\n",
    "        print('---------------------------------------------------')"
   ]
  },
  {
   "cell_type": "markdown",
   "metadata": {},
   "source": [
    "# 2.2) Prepare a list of all words used in all the scraped posts and calculate the frequency of each word."
   ]
  },
  {
   "cell_type": "code",
   "execution_count": 414,
   "metadata": {},
   "outputs": [],
   "source": [
    "hastags = []\n",
    "import time\n",
    "for i in name_link_sorted:\n",
    "    driver.get(name_link_sorted[i])\n",
    "    time.sleep(4)\n",
    "    post  = driver.find_elements_by_xpath('//div[@class=\"v1Nh3 kIKUG  _bz0w\"]/a')\n",
    "    post.click()\n",
    "    time.sleep(4)\n",
    "    for i in range(10):\n",
    "        try:\n",
    "            has = driver.find_element_by_xpath('/html/body/div[5]/div[2]/div/article/div[3]/div[1]/ul/div/li/div/div/div[2]/span/a')\n",
    "            hastags.append(has.get_attribute('innerHTML'))\n",
    "        except NoSuchElementException:\n",
    "            pass\n",
    "        #time.sleep()\n",
    "        next_button = driver.find_element_by_link_text(\"Next\")\n",
    "        next_button.click()\n",
    "        time.sleep(2)\n",
    "    driver.back()\n",
    "    close = driver.find_element_by_xpath('//div[contains(@class , \"_2dDPU\")]/div[3]/button')\n",
    "    close.click()\n",
    "driver.get('https://www.instagram.com/')"
   ]
  },
  {
   "cell_type": "code",
   "execution_count": 441,
   "metadata": {},
   "outputs": [],
   "source": [
    "hastags1 = []\n",
    "import time\n",
    "for i in name_link_sorted:\n",
    "    driver.get(name_link_sorted[i])\n",
    "    posts_list = driver.find_elements_by_xpath('//div[@class=\"v1Nh3 kIKUG  _bz0w\"]/a')\n",
    "    for i in range(10):\n",
    "        posts_list[i].click()\n",
    "        time.sleep(2)\n",
    "        try:\n",
    "            has1 = driver.find_elements_by_class_name('xil3i')\n",
    "            for w in has1:\n",
    "                hastags1.append(w.get_attribute('innerHTML'))\n",
    "        except NoSuchElementException:\n",
    "            pass\n",
    "        #time.sleep()\n",
    "        close_button = driver.find_element_by_xpath('/html/body/div[5]/div[3]/button')\n",
    "        close_button.click()\n",
    "        time.sleep(2)\n",
    "    driver.back()\n",
    "    #close = driver.find_element_by_xpath('//div[contains(@class , \"_2dDPU\")]/div[3]/button')\n",
    "    #close.click()\n",
    "driver.get('https://www.instagram.com/')"
   ]
  },
  {
   "cell_type": "code",
   "execution_count": 442,
   "metadata": {},
   "outputs": [
    {
     "data": {
      "text/plain": [
       "['#recipes',\n",
       " '#recipeoftheday',\n",
       " '#foodporn',\n",
       " '#foodphotography',\n",
       " '#sanjyotkeer',\n",
       " '#YourFoodLab',\n",
       " '#StreetFood',\n",
       " '#recipes',\n",
       " '#recipeoftheday',\n",
       " '#falafel',\n",
       " '#falafelrecipe',\n",
       " '#falafelwrap',\n",
       " '#falafelbowl',\n",
       " '#falafels',\n",
       " '#hummus',\n",
       " '#hummusrecipe',\n",
       " '#hummuslover',\n",
       " '#foodporn',\n",
       " '#foodphotography',\n",
       " '#sanjyotkeer',\n",
       " '#mumbaiblogger',\n",
       " '#recipes',\n",
       " '#recipeoftheday',\n",
       " '#foodporn',\n",
       " '#foodphotography',\n",
       " '#sanjyotkeer',\n",
       " '#YourFoodLab',\n",
       " '#StreetFood',\n",
       " '#typicallnagpuri',\n",
       " '#recipeoftheday',\n",
       " '#maggi',\n",
       " '#maggilover',\n",
       " '#indiancuisine',\n",
       " '#streetfood',\n",
       " '#yummyfood',\n",
       " '#foodporn',\n",
       " '#foodstagram',\n",
       " '#streetfoodindia',\n",
       " '#sanjyotkeer',\n",
       " '#recipeoftheday',\n",
       " '#rice',\n",
       " '#ricebowl',\n",
       " '#ricelover',\n",
       " '#foodphotography',\n",
       " '#periperi',\n",
       " '#foodporn',\n",
       " '#streetfoodindia',\n",
       " '#streetfoodlover',\n",
       " '#indiancuisine',\n",
       " '#sanjyotkeer',\n",
       " '#welcome',\n",
       " '#welcome',\n",
       " '#HarTastyCheezMeinGoCheese',\n",
       " '#cheese',\n",
       " '#pavbhaji',\n",
       " '#cheesy',\n",
       " '#gocheese',\n",
       " '#foodie',\n",
       " '#foodrushrecipe',\n",
       " '#food',\n",
       " '#recipe',\n",
       " '#bakery',\n",
       " '#bread',\n",
       " '#streetfood',\n",
       " '#twist',\n",
       " '#party',\n",
       " '#foodphotography',\n",
       " '#welcome',\n",
       " '#HarTastyCheezMeinGoCheese',\n",
       " '#cheese',\n",
       " '#pavbhaji',\n",
       " '#cheesy',\n",
       " '#gocheese',\n",
       " '#foodie',\n",
       " '#foodrushrecipe',\n",
       " '#food',\n",
       " '#recipe',\n",
       " '#bakery',\n",
       " '#bread',\n",
       " '#streetfood',\n",
       " '#twist',\n",
       " '#party',\n",
       " '#foodphotography',\n",
       " '#welcome',\n",
       " '#paneer',\n",
       " '#bread',\n",
       " '#pakora',\n",
       " '#fried',\n",
       " '#breadpakoda',\n",
       " '#masala',\n",
       " '#recipe',\n",
       " '#streetfood',\n",
       " '#streetstyle',\n",
       " '#india',\n",
       " '#indian',\n",
       " '#indianfood',\n",
       " '#food',\n",
       " '#foodie',\n",
       " '#homemade',\n",
       " '#welcome',\n",
       " '#welcome',\n",
       " '#welcome',\n",
       " '#welcome',\n",
       " '#welcome',\n",
       " '#welcome',\n",
       " '#newforkcity',\n",
       " '#chipcity',\n",
       " '#chip',\n",
       " '#cookies',\n",
       " '#luckycharms',\n",
       " '#yummy',\n",
       " '#stpatricksday',\n",
       " '#stpattysday',\n",
       " '#foood',\n",
       " '#brunch',\n",
       " '#nycbrunch',\n",
       " '#pulledpork',\n",
       " '#eggsbenedict',\n",
       " '#waffles',\n",
       " '#food',\n",
       " '#yummy',\n",
       " '#holeinthewall',\n",
       " '#pigoutnyc',\n",
       " '#nyc',\n",
       " '#nycfood',\n",
       " '#nycfoodie',\n",
       " '#milanomarket',\n",
       " '#chickenparm',\n",
       " '#vodkasauce',\n",
       " '#pesto',\n",
       " '#marinara',\n",
       " '#piday',\n",
       " '#pie',\n",
       " '#pizzapie',\n",
       " '#pizza',\n",
       " '#rubirosa',\n",
       " '#nyc',\n",
       " '#nycfood',\n",
       " '#nycfoodie',\n",
       " '#yum',\n",
       " '#food',\n",
       " '#nyc',\n",
       " '#nycfood',\n",
       " '#nycfoodie',\n",
       " '#seafood',\n",
       " '#bucatini',\n",
       " '#pasta',\n",
       " '#yum',\n",
       " '#food',\n",
       " '#eat',\n",
       " '#devour',\n",
       " '#devourpower',\n",
       " '#devourburgers',\n",
       " '#thebedford',\n",
       " '#roebling',\n",
       " '#nyc',\n",
       " '#nycfood',\n",
       " '#nycfoodie',\n",
       " '#burger',\n",
       " '#cheeseburger',\n",
       " '#nyc',\n",
       " '#nycfood',\n",
       " '#nycfoodie',\n",
       " '#lartusi',\n",
       " '#food',\n",
       " '#yum',\n",
       " '#feast',\n",
       " '#dinner',\n",
       " '#eat',\n",
       " '#ChoosePasta',\n",
       " '#pasta',\n",
       " '#lilia',\n",
       " '#mafaldini',\n",
       " '#freshpasta',\n",
       " '#nyc',\n",
       " '#nycfood',\n",
       " '#nycfoodie',\n",
       " '#food',\n",
       " '#wagyu',\n",
       " '#wagyubeef',\n",
       " '#tofu',\n",
       " '#ganhoobbq',\n",
       " '#nyc',\n",
       " '#nycfood',\n",
       " '#nycfoodie',\n",
       " '#yum',\n",
       " '#food',\n",
       " '#savechinatown',\n",
       " '#nyc',\n",
       " '#newyorkcity',\n",
       " '#chinatown',\n",
       " '#dumplings',\n",
       " '#food',\n",
       " '#nycfoodblog',\n",
       " '#nycfoodie',\n",
       " '#yum',\n",
       " '#food',\n",
       " '#delhistreetfood1',\n",
       " '#sandwichporn',\n",
       " '#tikki',\n",
       " '#cheesesandwich',\n",
       " '#alootikki',\n",
       " '#foodie',\n",
       " '#foodblogger',\n",
       " '#gorakhpuriya',\n",
       " '#gorakhpurbloggers',\n",
       " '#up53',\n",
       " '#delhi',\n",
       " '#StreetofDelhi',\n",
       " '#jamamasjid',\n",
       " '#chicken',\n",
       " '#chickenlover',\n",
       " '#delhifood',\n",
       " '#gorakhpur',\n",
       " '#lucknow',\n",
       " '#friedchicken',\n",
       " '#instagram',\n",
       " '#instamood',\n",
       " '#foodphotography',\n",
       " '#explorer',\n",
       " '#explorepage',\n",
       " '#foodhunter',\n",
       " '#foodhunting',\n",
       " '#indianexplorer',\n",
       " '#bloggerslife',\n",
       " '#photography',\n",
       " '#indiancusine',\n",
       " '#indianfoodie',\n",
       " '#indianblogger',\n",
       " '#nonveg',\n",
       " '#streetfood',\n",
       " '#streetfoodindia',\n",
       " '#custard',\n",
       " '#food',\n",
       " '#foodporn',\n",
       " '#foodie',\n",
       " '#india',\n",
       " '#indian',\n",
       " '#memes',\n",
       " '#gorakhpur',\n",
       " '#gorakhpurfoods',\n",
       " '#up',\n",
       " '#photography',\n",
       " '#foodblogger',\n",
       " '#foodie',\n",
       " '#dessert',\n",
       " '#sweet',\n",
       " '#fruits',\n",
       " '#kiwi',\n",
       " '#grapes',\n",
       " '#love',\n",
       " '#yummy',\n",
       " '#homemadefood',\n",
       " '#home',\n",
       " '#lockdown',\n",
       " '#corona',\n",
       " '#myanmar',\n",
       " '#picoftheday',\n",
       " '#explorer',\n",
       " '#explorepage',\n",
       " '#explore',\n",
       " '#uttarpradesh',\n",
       " '#lucknow']"
      ]
     },
     "execution_count": 442,
     "metadata": {},
     "output_type": "execute_result"
    }
   ],
   "source": [
    "hastags1"
   ]
  },
  {
   "cell_type": "code",
   "execution_count": 443,
   "metadata": {},
   "outputs": [],
   "source": [
    "hastags1=np.array(hastags1)\n",
    "hash_tags1=[]#it will contain all the actual hashtags, where all the usernames are filtered from the hashtags array\n",
    "for i in hastags1:\n",
    "    if not i[0]=='@' and i!='':\n",
    "        hash_tags1.append(i)"
   ]
  },
  {
   "cell_type": "code",
   "execution_count": 444,
   "metadata": {},
   "outputs": [
    {
     "data": {
      "text/plain": [
       "{'#recipes': 3,\n",
       " '#recipeoftheday': 5,\n",
       " '#foodporn': 6,\n",
       " '#foodphotography': 7,\n",
       " '#sanjyotkeer': 5,\n",
       " '#YourFoodLab': 2,\n",
       " '#StreetFood': 2,\n",
       " '#falafel': 1,\n",
       " '#falafelrecipe': 1,\n",
       " '#falafelwrap': 1,\n",
       " '#falafelbowl': 1,\n",
       " '#falafels': 1,\n",
       " '#hummus': 1,\n",
       " '#hummusrecipe': 1,\n",
       " '#hummuslover': 1,\n",
       " '#mumbaiblogger': 1,\n",
       " '#typicallnagpuri': 1,\n",
       " '#maggi': 1,\n",
       " '#maggilover': 1,\n",
       " '#indiancuisine': 2,\n",
       " '#streetfood': 5,\n",
       " '#yummyfood': 1,\n",
       " '#foodstagram': 1,\n",
       " '#streetfoodindia': 3,\n",
       " '#rice': 1,\n",
       " '#ricebowl': 1,\n",
       " '#ricelover': 1,\n",
       " '#periperi': 1,\n",
       " '#streetfoodlover': 1,\n",
       " '#welcome': 10,\n",
       " '#HarTastyCheezMeinGoCheese': 2,\n",
       " '#cheese': 2,\n",
       " '#pavbhaji': 2,\n",
       " '#cheesy': 2,\n",
       " '#gocheese': 2,\n",
       " '#foodie': 6,\n",
       " '#foodrushrecipe': 2,\n",
       " '#food': 12,\n",
       " '#recipe': 3,\n",
       " '#bakery': 2,\n",
       " '#bread': 3,\n",
       " '#twist': 2,\n",
       " '#party': 2,\n",
       " '#paneer': 1,\n",
       " '#pakora': 1,\n",
       " '#fried': 1,\n",
       " '#breadpakoda': 1,\n",
       " '#masala': 1,\n",
       " '#streetstyle': 1,\n",
       " '#india': 2,\n",
       " '#indian': 2,\n",
       " '#indianfood': 1,\n",
       " '#homemade': 1,\n",
       " '#newforkcity': 1,\n",
       " '#chipcity': 1,\n",
       " '#chip': 1,\n",
       " '#cookies': 1,\n",
       " '#luckycharms': 1,\n",
       " '#yummy': 3,\n",
       " '#stpatricksday': 1,\n",
       " '#stpattysday': 1,\n",
       " '#foood': 1,\n",
       " '#brunch': 1,\n",
       " '#nycbrunch': 1,\n",
       " '#pulledpork': 1,\n",
       " '#eggsbenedict': 1,\n",
       " '#waffles': 1,\n",
       " '#holeinthewall': 1,\n",
       " '#pigoutnyc': 1,\n",
       " '#nyc': 8,\n",
       " '#nycfood': 7,\n",
       " '#nycfoodie': 8,\n",
       " '#milanomarket': 1,\n",
       " '#chickenparm': 1,\n",
       " '#vodkasauce': 1,\n",
       " '#pesto': 1,\n",
       " '#marinara': 1,\n",
       " '#piday': 1,\n",
       " '#pie': 1,\n",
       " '#pizzapie': 1,\n",
       " '#pizza': 1,\n",
       " '#rubirosa': 1,\n",
       " '#yum': 5,\n",
       " '#seafood': 1,\n",
       " '#bucatini': 1,\n",
       " '#pasta': 2,\n",
       " '#eat': 2,\n",
       " '#devour': 1,\n",
       " '#devourpower': 1,\n",
       " '#devourburgers': 1,\n",
       " '#thebedford': 1,\n",
       " '#roebling': 1,\n",
       " '#burger': 1,\n",
       " '#cheeseburger': 1,\n",
       " '#lartusi': 1,\n",
       " '#feast': 1,\n",
       " '#dinner': 1,\n",
       " '#ChoosePasta': 1,\n",
       " '#lilia': 1,\n",
       " '#mafaldini': 1,\n",
       " '#freshpasta': 1,\n",
       " '#wagyu': 1,\n",
       " '#wagyubeef': 1,\n",
       " '#tofu': 1,\n",
       " '#ganhoobbq': 1,\n",
       " '#savechinatown': 1,\n",
       " '#newyorkcity': 1,\n",
       " '#chinatown': 1,\n",
       " '#dumplings': 1,\n",
       " '#nycfoodblog': 1,\n",
       " '#delhistreetfood1': 1,\n",
       " '#sandwichporn': 1,\n",
       " '#tikki': 1,\n",
       " '#cheesesandwich': 1,\n",
       " '#alootikki': 1,\n",
       " '#foodblogger': 2,\n",
       " '#gorakhpuriya': 1,\n",
       " '#gorakhpurbloggers': 1,\n",
       " '#up53': 1,\n",
       " '#delhi': 1,\n",
       " '#StreetofDelhi': 1,\n",
       " '#jamamasjid': 1,\n",
       " '#chicken': 1,\n",
       " '#chickenlover': 1,\n",
       " '#delhifood': 1,\n",
       " '#gorakhpur': 2,\n",
       " '#lucknow': 2,\n",
       " '#friedchicken': 1,\n",
       " '#instagram': 1,\n",
       " '#instamood': 1,\n",
       " '#explorer': 2,\n",
       " '#explorepage': 2,\n",
       " '#foodhunter': 1,\n",
       " '#foodhunting': 1,\n",
       " '#indianexplorer': 1,\n",
       " '#bloggerslife': 1,\n",
       " '#photography': 2,\n",
       " '#indiancusine': 1,\n",
       " '#indianfoodie': 1,\n",
       " '#indianblogger': 1,\n",
       " '#nonveg': 1,\n",
       " '#custard': 1,\n",
       " '#memes': 1,\n",
       " '#gorakhpurfoods': 1,\n",
       " '#up': 1,\n",
       " '#dessert': 1,\n",
       " '#sweet': 1,\n",
       " '#fruits': 1,\n",
       " '#kiwi': 1,\n",
       " '#grapes': 1,\n",
       " '#love': 1,\n",
       " '#homemadefood': 1,\n",
       " '#home': 1,\n",
       " '#lockdown': 1,\n",
       " '#corona': 1,\n",
       " '#myanmar': 1,\n",
       " '#picoftheday': 1,\n",
       " '#explore': 1,\n",
       " '#uttarpradesh': 1}"
      ]
     },
     "execution_count": 444,
     "metadata": {},
     "output_type": "execute_result"
    }
   ],
   "source": [
    "dic1=dict()#this will store the frequencies of all the hashtags\n",
    "for i in hash_tags1:\n",
    "    if i in dic1.keys():\n",
    "        dic1[i]+=1\n",
    "    else:\n",
    "        dic1[i]=1\n",
    "dic1"
   ]
  },
  {
   "cell_type": "markdown",
   "metadata": {},
   "source": [
    "# 2.3) Create a csv file with two columns : the word and its frequency"
   ]
  },
  {
   "cell_type": "code",
   "execution_count": 26,
   "metadata": {},
   "outputs": [
    {
     "name": "stdout",
     "output_type": "stream",
     "text": [
      "\n"
     ]
    }
   ],
   "source": [
    "hash_word=np.array([i[1:] for i in dic1.keys()])\n",
    "frequency=np.array([i for i in dic1.values()])\n",
    "df=pd.DataFrame()\n",
    "df['Words']=hash_word\n",
    "df['Frequency']=frequency\n",
    "df.to_csv('Hashtag_Frequencies.csv')"
   ]
  },
  {
   "cell_type": "markdown",
   "metadata": {},
   "source": [
    "# 2.4) Now, find the hashtags that were most popular among these bloggers"
   ]
  },
  {
   "cell_type": "code",
   "execution_count": 446,
   "metadata": {},
   "outputs": [
    {
     "name": "stdout",
     "output_type": "stream",
     "text": [
      "recipes -----> 12 times\n",
      "recipeoftheday -----> 10 times\n",
      "foodporn -----> 8 times\n",
      "foodphotography -----> 8 times\n",
      "sanjyotkeer -----> 7 times\n",
      "YourFoodLab -----> 7 times\n",
      "StreetFood -----> 6 times\n",
      "falafel -----> 6 times\n",
      "falafelrecipe -----> 5 times\n",
      "falafelwrap -----> 5 times\n",
      "falafelbowl -----> 5 times\n",
      "falafels -----> 5 times\n",
      "hummus -----> 3 times\n",
      "hummusrecipe -----> 3 times\n",
      "hummuslover -----> 3 times\n",
      "mumbaiblogger -----> 3 times\n",
      "typicallnagpuri -----> 3 times\n",
      "maggi -----> 2 times\n",
      "maggilover -----> 2 times\n",
      "indiancuisine -----> 2 times\n",
      "streetfood -----> 2 times\n",
      "yummyfood -----> 2 times\n",
      "foodstagram -----> 2 times\n",
      "streetfoodindia -----> 2 times\n",
      "rice -----> 2 times\n",
      "ricebowl -----> 2 times\n",
      "ricelover -----> 2 times\n",
      "periperi -----> 2 times\n",
      "streetfoodlover -----> 2 times\n",
      "welcome -----> 2 times\n",
      "HarTastyCheezMeinGoCheese -----> 2 times\n",
      "cheese -----> 2 times\n",
      "pavbhaji -----> 2 times\n",
      "cheesy -----> 2 times\n",
      "gocheese -----> 2 times\n",
      "foodie -----> 2 times\n",
      "foodrushrecipe -----> 2 times\n",
      "food -----> 2 times\n",
      "recipe -----> 2 times\n",
      "bakery -----> 1 times\n",
      "bread -----> 1 times\n",
      "twist -----> 1 times\n",
      "party -----> 1 times\n",
      "paneer -----> 1 times\n",
      "pakora -----> 1 times\n",
      "fried -----> 1 times\n",
      "breadpakoda -----> 1 times\n",
      "masala -----> 1 times\n",
      "streetstyle -----> 1 times\n",
      "india -----> 1 times\n",
      "indian -----> 1 times\n",
      "indianfood -----> 1 times\n",
      "homemade -----> 1 times\n",
      "newforkcity -----> 1 times\n",
      "chipcity -----> 1 times\n",
      "chip -----> 1 times\n",
      "cookies -----> 1 times\n",
      "luckycharms -----> 1 times\n",
      "yummy -----> 1 times\n",
      "stpatricksday -----> 1 times\n",
      "stpattysday -----> 1 times\n",
      "foood -----> 1 times\n",
      "brunch -----> 1 times\n",
      "nycbrunch -----> 1 times\n",
      "pulledpork -----> 1 times\n",
      "eggsbenedict -----> 1 times\n",
      "waffles -----> 1 times\n",
      "holeinthewall -----> 1 times\n",
      "pigoutnyc -----> 1 times\n",
      "nyc -----> 1 times\n",
      "nycfood -----> 1 times\n",
      "nycfoodie -----> 1 times\n",
      "milanomarket -----> 1 times\n",
      "chickenparm -----> 1 times\n",
      "vodkasauce -----> 1 times\n",
      "pesto -----> 1 times\n",
      "marinara -----> 1 times\n",
      "piday -----> 1 times\n",
      "pie -----> 1 times\n",
      "pizzapie -----> 1 times\n",
      "pizza -----> 1 times\n",
      "rubirosa -----> 1 times\n",
      "yum -----> 1 times\n",
      "seafood -----> 1 times\n",
      "bucatini -----> 1 times\n",
      "pasta -----> 1 times\n",
      "eat -----> 1 times\n",
      "devour -----> 1 times\n",
      "devourpower -----> 1 times\n",
      "devourburgers -----> 1 times\n",
      "thebedford -----> 1 times\n",
      "roebling -----> 1 times\n",
      "burger -----> 1 times\n",
      "cheeseburger -----> 1 times\n",
      "lartusi -----> 1 times\n",
      "feast -----> 1 times\n",
      "dinner -----> 1 times\n",
      "ChoosePasta -----> 1 times\n",
      "lilia -----> 1 times\n",
      "mafaldini -----> 1 times\n",
      "freshpasta -----> 1 times\n",
      "wagyu -----> 1 times\n",
      "wagyubeef -----> 1 times\n",
      "tofu -----> 1 times\n",
      "ganhoobbq -----> 1 times\n",
      "savechinatown -----> 1 times\n",
      "newyorkcity -----> 1 times\n",
      "chinatown -----> 1 times\n",
      "dumplings -----> 1 times\n",
      "nycfoodblog -----> 1 times\n",
      "delhistreetfood1 -----> 1 times\n",
      "sandwichporn -----> 1 times\n",
      "tikki -----> 1 times\n",
      "cheesesandwich -----> 1 times\n",
      "alootikki -----> 1 times\n",
      "foodblogger -----> 1 times\n",
      "gorakhpuriya -----> 1 times\n",
      "gorakhpurbloggers -----> 1 times\n",
      "up53 -----> 1 times\n",
      "delhi -----> 1 times\n",
      "StreetofDelhi -----> 1 times\n",
      "jamamasjid -----> 1 times\n",
      "chicken -----> 1 times\n",
      "chickenlover -----> 1 times\n",
      "delhifood -----> 1 times\n",
      "gorakhpur -----> 1 times\n",
      "lucknow -----> 1 times\n",
      "friedchicken -----> 1 times\n",
      "instagram -----> 1 times\n",
      "instamood -----> 1 times\n",
      "explorer -----> 1 times\n",
      "explorepage -----> 1 times\n",
      "foodhunter -----> 1 times\n",
      "foodhunting -----> 1 times\n",
      "indianexplorer -----> 1 times\n",
      "bloggerslife -----> 1 times\n",
      "photography -----> 1 times\n",
      "indiancusine -----> 1 times\n",
      "indianfoodie -----> 1 times\n",
      "indianblogger -----> 1 times\n",
      "nonveg -----> 1 times\n",
      "custard -----> 1 times\n",
      "memes -----> 1 times\n",
      "gorakhpurfoods -----> 1 times\n",
      "up -----> 1 times\n",
      "dessert -----> 1 times\n",
      "sweet -----> 1 times\n",
      "fruits -----> 1 times\n",
      "kiwi -----> 1 times\n",
      "grapes -----> 1 times\n",
      "love -----> 1 times\n",
      "homemadefood -----> 1 times\n",
      "home -----> 1 times\n",
      "lockdown -----> 1 times\n",
      "corona -----> 1 times\n",
      "myanmar -----> 1 times\n",
      "picoftheday -----> 1 times\n",
      "explore -----> 1 times\n",
      "uttarpradesh -----> 1 times\n"
     ]
    }
   ],
   "source": [
    "ash_word=hash_word[np.argsort(frequency)][::-1]\n",
    "frequency=frequency[np.argsort(frequency)][::-1]\n",
    "for i in range(len(hash_word)):\n",
    "    print(hash_word[i], \"----->\", frequency[i], \"times\")"
   ]
  },
  {
   "cell_type": "markdown",
   "metadata": {},
   "source": [
    "# 2.5) Plot a Pie Chart of the top 5 hashtags obtained and the number of times they were used by these bloggers in the scraped posts."
   ]
  },
  {
   "cell_type": "code",
   "execution_count": 447,
   "metadata": {},
   "outputs": [
    {
     "data": {
      "image/png": "[encoded data removed]",
      "text/plain": [
       "<Figure size 720x720 with 1 Axes>"
      ]
     },
     "metadata": {},
     "output_type": "display_data"
    }
   ],
   "source": [
    "x=hash_word[:5]\n",
    "y=frequency[:5]\n",
    "plt.figure(figsize=(10, 10))\n",
    "plt.pie(y, labels=x, autopct='%.2f%%')\n",
    "plt.axis('equal')\n",
    "plt.title('Pie Chart of the top 5 hashtags ')\n",
    "plt.show()"
   ]
  },
  {
   "cell_type": "markdown",
   "metadata": {},
   "source": [
    "# 3.1) Find out the likes of the top 10 posts of the 5 handles obtained earlier."
   ]
  },
  {
   "cell_type": "code",
   "execution_count": 489,
   "metadata": {},
   "outputs": [
    {
     "name": "stdout",
     "output_type": "stream",
     "text": [
      "\n"
     ]
    }
   ],
   "source": [
    "likes = {}\n",
    "import time\n",
    "for i in name_link_sorted:\n",
    "    key = i\n",
    "    value = []\n",
    "    driver.get(name_link_sorted[i])\n",
    "    posts_list = driver.find_elements_by_xpath('//div[@class=\"v1Nh3 kIKUG  _bz0w\"]/a')\n",
    "    for i in range(10):\n",
    "        posts_list[i].click()\n",
    "        time.sleep(2)\n",
    "        try:\n",
    "            l = driver.find_element_by_xpath('/html/body/div[5]/div[2]/div/article/div[3]/section[2]/div/span')\n",
    "            l.click()\n",
    "            time.sleep(2)\n",
    "            li = driver.find_element_by_xpath('/html/body/div[5]/div[2]/div/article/div[3]/section[2]/div/div/div[4]/span')\n",
    "            #print(li.get_attribute('innerHTML'))\n",
    "            value.append(li.get_attribute('innerHTML'))\n",
    "            time.sleep(2)\n",
    "            lc = driver.find_element_by_xpath('/html/body/div[5]/div[2]/div/article/div[3]/section[2]/div/div/div[1]')\n",
    "            lc.click()\n",
    "        except NoSuchElementException:\n",
    "            pass\n",
    "        try:\n",
    "            li = driver.find_element_by_xpath('/html/body/div[5]/div[2]/div/article/div[3]/section[2]/div/div/a/span')\n",
    "            #print(li.get_attribute('innerHTML'))\n",
    "            value.append(li.get_attribute('innerHTML'))\n",
    "        except NoSuchElementException:\n",
    "            pass\n",
    "        #time.sleep()\n",
    "        close_button = driver.find_element_by_xpath('/html/body/div[5]/div[3]/button')\n",
    "        close_button.click()\n",
    "        time.sleep(2)\n",
    "    likes[key] = value\n",
    "    driver.back()\n",
    "    #close = driver.find_element_by_xpath('//div[contains(@class , \"_2dDPU\")]/div[3]/button')\n",
    "    #close.click()\n",
    "driver.get('https://www.instagram.com/')"
   ]
  },
  {
   "cell_type": "code",
   "execution_count": 500,
   "metadata": {},
   "outputs": [],
   "source": [
    "likes_no_dict= {}\n",
    "for i in likes:\n",
    "    likes_str = [likes[i]]\n",
    "    like_no = []\n",
    "    for j in likes_str:\n",
    "        for v in j:\n",
    "            v = int(\"\".join(v.split(',')))\n",
    "            like_no.append(v)\n",
    "    likes_no_dict[i] = like_no\n",
    "        "
   ]
  },
  {
   "cell_type": "code",
   "execution_count": 504,
   "metadata": {},
   "outputs": [
    {
     "name": "stdout",
     "output_type": "stream",
     "text": [
      "Insta handle---- yourfoodlab\n",
      "No of likes of 10 latest posts [10619, 22137, 25922, 31253, 49320, 37322, 48894, 30865, 25087, 39826]\n",
      "Insta handle---- foodrush.recipe\n",
      "No of likes of 10 latest posts [7010, 11807, 51693, 31587, 15488, 9337, 77262, 41766, 29083, 70115]\n",
      "Insta handle---- food\n",
      "No of likes of 10 latest posts [555, 785, 1337, 626, 905, 1281, 591, 1026, 717, 942]\n",
      "Insta handle---- delhi_street_food1\n",
      "No of likes of 10 latest posts [80, 715, 603, 2415, 825, 3231, 3567, 787, 4781, 1306]\n",
      "Insta handle---- gorakhpurfoods\n",
      "No of likes of 10 latest posts [481, 374, 524, 326, 387, 490, 312, 487, 364, 503]\n"
     ]
    }
   ],
   "source": [
    "for i in likes_no_dict:\n",
    "    print(\"Insta handle----\",i)\n",
    "    print(\"No of likes of 10 latest posts\",likes_no_dict[i])"
   ]
  },
  {
   "cell_type": "markdown",
   "metadata": {},
   "source": [
    "# 3.2) Calculate the average likes for a handle."
   ]
  },
  {
   "cell_type": "code",
   "execution_count": 512,
   "metadata": {},
   "outputs": [
    {
     "name": "stdout",
     "output_type": "stream",
     "text": [
      "Insta handle---- yourfoodlab\n",
      "Average like  32124.5\n",
      "Insta handle---- foodrush.recipe\n",
      "Average like  34514.8\n",
      "Insta handle---- food\n",
      "Average like  876.5\n",
      "Insta handle---- delhi_street_food1\n",
      "Average like  1831.0\n",
      "Insta handle---- gorakhpurfoods\n",
      "Average like  424.8\n"
     ]
    }
   ],
   "source": [
    "avg_likes = []\n",
    "for i in likes_no_dict:\n",
    "    print(\"Insta handle----\",i)\n",
    "    l = 0 \n",
    "    for j in likes_no_dict[i]:\n",
    "        l = l + j\n",
    "    l = l/10\n",
    "    avg_likes.append(l)\n",
    "    print(\"Average like \",l)\n",
    "    "
   ]
  },
  {
   "cell_type": "markdown",
   "metadata": {},
   "source": [
    "# 3.3) Divide the average likes obtained from the number of followers of the handle to get the average followers:like ratio of each handle."
   ]
  },
  {
   "cell_type": "code",
   "execution_count": 517,
   "metadata": {},
   "outputs": [
    {
     "name": "stdout",
     "output_type": "stream",
     "text": [
      "Insta handle name-- yourfoodlab , No of followers-- 1592114 , Average likes-- 32124.5\n",
      "Insta handle name-- foodrush.recipe , No of followers-- 606125 , Average likes-- 34514.8\n",
      "Insta handle name-- food , No of followers-- 113840 , Average likes-- 876.5\n",
      "Insta handle name-- delhi_street_food1 , No of followers-- 22149 , Average likes-- 1831.0\n",
      "Insta handle name-- gorakhpurfoods , No of followers-- 12688 , Average likes-- 424.8\n"
     ]
    }
   ],
   "source": [
    "j = 0\n",
    "for i in name_foll_no_sorted:\n",
    "    print(\"Insta handle name--\",i,\", No of followers--\",name_foll_no_sorted[i],\", Average likes--\",avg_likes[j])\n",
    "    j = j+1"
   ]
  },
  {
   "cell_type": "code",
   "execution_count": 520,
   "metadata": {},
   "outputs": [
    {
     "name": "stdout",
     "output_type": "stream",
     "text": [
      "Insta handle--- yourfoodlab\n",
      "Average likes obtained by dividing average likes from the number of followers 49.56074024498436\n",
      "Insta handle--- foodrush.recipe\n",
      "Average likes obtained by dividing average likes from the number of followers 17.561307033504466\n",
      "Insta handle--- food\n",
      "Average likes obtained by dividing average likes from the number of followers 129.88020536223615\n",
      "Insta handle--- delhi_street_food1\n",
      "Average likes obtained by dividing average likes from the number of followers 12.096668487165484\n",
      "Insta handle--- gorakhpurfoods\n",
      "Average likes obtained by dividing average likes from the number of followers 29.868173258003765\n"
     ]
    }
   ],
   "source": [
    "j = 0\n",
    "avg_ratio = []\n",
    "for i in likes_no_dict:\n",
    "    print(\"Insta handle---\",i)\n",
    "    avg_ratio.append(name_foll_no_sorted[i]/avg_likes[j])\n",
    "    print(\"Average likes obtained by dividing average likes from the number of followers\",name_foll_no_sorted[i]/avg_likes[j])\n",
    "    j = j+1"
   ]
  },
  {
   "cell_type": "markdown",
   "metadata": {},
   "source": [
    "# 3.4) Create a bar graph to depict the above obtained information."
   ]
  },
  {
   "cell_type": "code",
   "execution_count": 575,
   "metadata": {},
   "outputs": [
    {
     "data": {
      "image/png": "[encoded data removed]",
      "text/plain": [
       "<Figure size 720x504 with 1 Axes>"
      ]
     },
     "metadata": {
      "needs_background": "light"
     },
     "output_type": "display_data"
    }
   ],
   "source": [
    "#plotting the graph between average followers to the likes ratio and users.\n",
    "plt.figure(figsize=(10,7))\n",
    "plt.bar(top5, avg_ratio, color=colors)\n",
    "plt.xticks(rotation=45, size=12)\n",
    "plt.xlabel('Insta handles--->', size=12)\n",
    "plt.ylabel('Average followers to likes ratio---->', size=12)\n",
    "plt.yticks(size=12)\n",
    "plt.grid()\n",
    "plt.show()"
   ]
  },
  {
   "cell_type": "code",
   "execution_count": null,
   "metadata": {},
   "outputs": [],
   "source": []
  }
 ],
 "metadata": {
  "kernelspec": {
   "display_name": "Python 3",
   "language": "python",
   "name": "python3"
  },
  "language_info": {
   "codemirror_mode": {
    "name": "ipython",
    "version": 3
   },
   "file_extension": ".py",
   "mimetype": "text/x-python",
   "name": "python",
   "nbconvert_exporter": "python",
   "pygments_lexer": "ipython3",
   "version": "3.8.5"
  }
 },
 "nbformat": 4,
 "nbformat_minor": 4
}
